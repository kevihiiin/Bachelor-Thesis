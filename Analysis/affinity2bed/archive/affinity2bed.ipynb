{
 "cells": [
  {
   "cell_type": "code",
   "execution_count": 163,
   "metadata": {
    "collapsed": true
   },
   "outputs": [],
   "source": [
    "import os\n",
    "import re\n",
    "import random\n",
    "import string\n",
    "import tqdm\n",
    "import numpy as np\n",
    "import pandas as pd\n",
    "import seaborn as sns\n",
    "import matplotlib.pyplot as plt\n",
    "\n",
    "input_file_path = '/home/kevin/tmp/group1_hic/H3K4me3_R3_TEPIC_08_27_20_15_32_02_600835604_Affinity.txt'\n",
    "output_dir = '/home/kevin/tmp/group1_hic/bed_files/'"
   ]
  },
  {
   "cell_type": "markdown",
   "source": [
    "Parse input file as DataFrame"
   ],
   "metadata": {
    "collapsed": false
   }
  },
  {
   "cell_type": "code",
   "execution_count": 164,
   "outputs": [],
   "source": [
    "input_df = pd.read_table(input_file_path)\n",
    "header_df = input_df.iloc[:,0]\n",
    "value_df = input_df.iloc[:,1:]"
   ],
   "metadata": {
    "collapsed": false,
    "pycharm": {
     "name": "#%%\n"
    }
   }
  },
  {
   "cell_type": "code",
   "execution_count": 165,
   "outputs": [],
   "source": [
    "position_df = pd.DataFrame()\n",
    "position_df[['chr', 'start']] = header_df.str.split(':', expand=True)\n",
    "position_df[['start', 'end']] = position_df.iloc[:,0-1].str.split('-', expand=True)\n",
    "\n",
    "full_df = pd.concat([position_df, value_df], axis=1)\n"
   ],
   "metadata": {
    "collapsed": false,
    "pycharm": {
     "name": "#%%\n"
    }
   }
  },
  {
   "cell_type": "markdown",
   "source": [
    "Get candidates"
   ],
   "metadata": {
    "collapsed": false,
    "pycharm": {
     "name": "#%% md\n"
    }
   }
  },
  {
   "cell_type": "code",
   "execution_count": 166,
   "outputs": [
    {
     "name": "stdout",
     "output_type": "stream",
     "text": [
      "['STAT2_MOUSE.H11MO.0.A:IRF2_MOUSE.H11MO.0.B:IRF1_MOUSE.H11MO.0.A', 'Stat4:Stat3', 'Stat5a::Stat5b:Stat4:Stat3', 'STAT1_MOUSE.H11MO.0.A:IRF3_MOUSE.H11MO.0.A:IRF4_MOUSE.H11MO.0.A:IRF8_MOUSE.H11MO.0.A:STAT2_MOUSE.H11MO.0.A:IRF2_MOUSE.H11MO.0.B:IRF1_MOUSE.H11MO.0.A', 'Stat6:Bcl6:Stat5a::Stat5b:Stat4:Stat3']\n"
     ]
    },
    {
     "data": {
      "text/plain": "      chr     start       end     Rarg:Rarb  Nr2f6(var.2):Rarg:Rarb  \\\n0       1  10003185  10003787  5.551080e-18            1.080439e-17   \n1       1  10003946  10004305  4.040050e-17            3.391001e-17   \n2       1  10008807  10009195  2.013556e-15            2.064436e-15   \n3       1  10036598  10039670  2.830072e-13            3.907405e-13   \n4       1  10039734  10040637  2.595467e-16            7.974885e-15   \n...    ..       ...       ...           ...                     ...   \n34448   Y  90744290  90744601  4.068771e-19            4.182204e-18   \n34449   Y  90761699  90761911  2.784268e-21            6.869608e-21   \n34450   Y  90797829  90798020  3.215739e-21            3.449624e-21   \n34451   Y  90804817  90805131  8.654644e-15            8.080138e-15   \n34452   Y  90808686  90809045  1.608365e-15            1.571998e-15   \n\n         Sox11:Sox1    Rxra:Hnf4a  REST_MOUSE.H11MO.0.A:SIN3A  \\\n0      1.571565e-14  9.004629e-13                1.111263e-12   \n1      7.154319e-13  1.687278e-13                1.505751e-10   \n2      6.547514e-13  3.317250e-09                4.346479e-13   \n3      1.554720e-09  6.478507e-11                2.825763e-10   \n4      5.789725e-12  4.044499e-11                6.600348e-08   \n...             ...           ...                         ...   \n34448  4.111573e-16  6.107210e-11                1.558568e-12   \n34449  3.559093e-16  2.008255e-13                2.084659e-14   \n34450  2.516549e-16  5.120382e-11                9.834246e-15   \n34451  2.221874e-08  4.167499e-12                1.236011e-14   \n34452  3.163128e-13  6.010308e-14                4.549708e-12   \n\n       CTCF_MOUSE.H11MO.0.A:CTCFL_MOUSE.H11MO.0.A  Nr2f6:Rxra:Hnf4a  ...  \\\n0                                    3.667193e-09      1.232622e-12  ...   \n1                                    1.912064e-08      2.023710e-13  ...   \n2                                    1.110178e-06      3.724953e-09  ...   \n3                                    8.689983e-05      7.480777e-11  ...   \n4                                    1.957263e-05      5.405392e-11  ...   \n...                                           ...               ...  ...   \n34448                                4.818779e-04      7.170907e-11  ...   \n34449                                3.586164e-06      2.648187e-13  ...   \n34450                                1.913970e-10      5.981921e-11  ...   \n34451                                1.376066e-08      4.558515e-12  ...   \n34452                                3.808554e-03      7.796356e-14  ...   \n\n       Nkx2-5:Nkx2-5(var.2):Nkx3-2:Nkx3-1  \\\n0                                0.035631   \n1                                0.001476   \n2                                0.062355   \n3                                0.270410   \n4                                0.005053   \n...                                   ...   \n34448                            0.000257   \n34449                            0.001312   \n34450                            0.007776   \n34451                            0.005069   \n34452                            0.014875   \n\n       SRF_MOUSE.H11MO.0.A:MEF2A_MOUSE.H11MO.0.A:MEF2C_MOUSE.H11MO.0.A:MEF2D_MOUSE.H11MO.0.A  \\\n0                                               0.432756                                       \n1                                               0.013081                                       \n2                                               0.001708                                       \n3                                               0.524621                                       \n4                                               0.001140                                       \n...                                                  ...                                       \n34448                                           0.000016                                       \n34449                                           0.002146                                       \n34450                                           0.012858                                       \n34451                                           0.000110                                       \n34452                                           0.150488                                       \n\n       TBP_MOUSE.H11MO.0.A:SRF_MOUSE.H11MO.0.A:MEF2A_MOUSE.H11MO.0.A:MEF2C_MOUSE.H11MO.0.A:MEF2D_MOUSE.H11MO.0.A  \\\n0                                               0.361706                                                           \n1                                               0.052021                                                           \n2                                               0.008646                                                           \n3                                               1.254211                                                           \n4                                               0.027669                                                           \n...                                                  ...                                                           \n34448                                           0.000210                                                           \n34449                                           0.015401                                                           \n34450                                           0.026708                                                           \n34451                                           0.002130                                                           \n34452                                           0.186673                                                           \n\n       HAND1_MOUSE.H11MO.0.C:SMAD2_MOUSE.H11MO.0.A:Smad4:Hand1::Tcf3  \\\n0                                               0.140793               \n1                                               0.886253               \n2                                               1.161372               \n3                                               2.334575               \n4                                               1.173398               \n...                                                  ...               \n34448                                           0.440417               \n34449                                           0.005706               \n34450                                           0.027481               \n34451                                           0.746285               \n34452                                           0.081454               \n\n       DLX5_MOUSE.H11MO.0.C:SP7_MOUSE.H11MO.0.A:Arid3b:Lhx3:Phox2b:PROP1_MOUSE.H11MO.0.C:Barhl1:Pdx1:Lhx8:LHX2_MOUSE.H11MO.0.A:Hoxd3:Dlx1:Prrx2:Lhx4:Dlx3:Dlx4:Nobox:Arx:Alx1:Alx4:Hoxb5:VSX2_MOUSE.H11MO.0.C:Shox2:Msx3:Dlx2:Hoxd8:Hmx1:Hmx3:Hmx2  \\\n0                                               4.599214                                                                                                                                                                                             \n1                                               5.130918                                                                                                                                                                                             \n2                                               1.681913                                                                                                                                                                                             \n3                                              33.214793                                                                                                                                                                                             \n4                                               3.201364                                                                                                                                                                                             \n...                                                  ...                                                                                                                                                                                             \n34448                                           0.040902                                                                                                                                                                                             \n34449                                           1.311544                                                                                                                                                                                             \n34450                                           3.459966                                                                                                                                                                                             \n34451                                           4.139108                                                                                                                                                                                             \n34452                                          11.289771                                                                                                                                                                                             \n\n       BARX1_MOUSE.H11MO.0.C:Nkx2-5:Nkx2-5(var.2):Nkx3-2:Nkx3-1  \\\n0                                               0.063753          \n1                                               0.002798          \n2                                               0.104272          \n3                                               0.409306          \n4                                               0.009581          \n...                                                  ...          \n34448                                           0.000490          \n34449                                           0.002330          \n34450                                           0.013886          \n34451                                           0.008869          \n34452                                           0.026017          \n\n       BATF3_MOUSE.H11MO.0.A:IRF7_MOUSE.H11MO.0.C:IRF9_MOUSE.H11MO.0.C:PRDM1_MOUSE.H11MO.0.A:STAT1_MOUSE.H11MO.0.A:IRF3_MOUSE.H11MO.0.A:IRF4_MOUSE.H11MO.0.A:IRF8_MOUSE.H11MO.0.A:STAT2_MOUSE.H11MO.0.A:IRF2_MOUSE.H11MO.0.B:IRF1_MOUSE.H11MO.0.A  \\\n0                                               0.208979                                                                                                                                                                                            \n1                                               0.126018                                                                                                                                                                                            \n2                                               0.022510                                                                                                                                                                                            \n3                                               0.478771                                                                                                                                                                                            \n4                                               0.025943                                                                                                                                                                                            \n...                                                  ...                                                                                                                                                                                            \n34448                                           0.365060                                                                                                                                                                                            \n34449                                           0.066208                                                                                                                                                                                            \n34450                                           0.037703                                                                                                                                                                                            \n34451                                           0.008944                                                                                                                                                                                            \n34452                                           0.010257                                                                                                                                                                                            \n\n       Vdr:Nr1h3::Rxra:NR1I2_MOUSE.H11MO.0.C:Rarg(var.2):NR1I3_MOUSE.H11MO.0.C:Nr2e1:NR4A1_MOUSE.H11MO.0.B:RXRB_MOUSE.H11MO.0.C:NR4A2:Pparg::Rxra:PPARA_MOUSE.H11MO.0.A:PPARG_MOUSE.H11MO.0.A:NR2C2_MOUSE.H11MO.0.A:NR1H3_MOUSE.H11MO.0.A:NR2C1_MOUSE.H11MO.0.C:HNF4G_MOUSE.H11MO.0.C:Nr2f6:Rxra:Hnf4a:Nr2f6(var.2):Rarg:Rarb:RARA_MOUSE.H11MO.0.A:RXRG_MOUSE.H11MO.0.B:Rarb(var.2):Esrrg:Esrrb:Nr5a2:Esrra  \\\n0                                               0.000611                                                                                                                                                                                                                                                                                                                                                      \n1                                               0.000098                                                                                                                                                                                                                                                                                                                                                      \n2                                               0.011183                                                                                                                                                                                                                                                                                                                                                      \n3                                               0.242861                                                                                                                                                                                                                                                                                                                                                      \n4                                               0.240126                                                                                                                                                                                                                                                                                                                                                      \n...                                                  ...                                                                                                                                                                                                                                                                                                                                                      \n34448                                           0.133532                                                                                                                                                                                                                                                                                                                                                      \n34449                                           0.002778                                                                                                                                                                                                                                                                                                                                                      \n34450                                           0.000394                                                                                                                                                                                                                                                                                                                                                      \n34451                                           0.000601                                                                                                                                                                                                                                                                                                                                                      \n34452                                           0.000960                                                                                                                                                                                                                                                                                                                                                      \n\n       Pax2:AHR_MOUSE.H11MO.0.B:Ahr::Arnt:HIF1A_MOUSE.H11MO.0.C:EPAS1_MOUSE.H11MO.0.C:ARNT::HIF1A  \\\n0                                               0.027372                                            \n1                                               0.023593                                            \n2                                               0.092461                                            \n3                                               0.193172                                            \n4                                               0.105303                                            \n...                                                  ...                                            \n34448                                           0.011333                                            \n34449                                           0.418821                                            \n34450                                           0.001730                                            \n34451                                           0.001095                                            \n34452                                           0.261899                                            \n\n       Rhox11:TBX21_MOUSE.H11MO.0.A:T:TBX3_MOUSE.H11MO.0.B:SMAD3_MOUSE.H11MO.0.B:LYL1_MOUSE.H11MO.0.A:ZEB1_MOUSE.H11MO.0.B:OLIG2_MOUSE.H11MO.0.A:SNAI1_MOUSE.H11MO.0.C:PTF1A_MOUSE.H11MO.0.A:MYF6_MOUSE.H11MO.0.C:Ascl2:Tcf3:Tcf21:ASCL1_MOUSE.H11MO.0.A:SNAI2_MOUSE.H11MO.0.A:Myod1:Tcf12:Myog  \n0                                               0.341525                                                                                                                                                                                                                                         \n1                                               0.104607                                                                                                                                                                                                                                         \n2                                               0.112446                                                                                                                                                                                                                                         \n3                                               5.958660                                                                                                                                                                                                                                         \n4                                               4.188511                                                                                                                                                                                                                                         \n...                                                  ...                                                                                                                                                                                                                                         \n34448                                           0.006710                                                                                                                                                                                                                                         \n34449                                           0.003448                                                                                                                                                                                                                                         \n34450                                           0.000449                                                                                                                                                                                                                                         \n34451                                           0.824339                                                                                                                                                                                                                                         \n34452                                           0.005224                                                                                                                                                                                                                                         \n\n[34453 rows x 309 columns]",
      "text/html": "<div>\n<style scoped>\n    .dataframe tbody tr th:only-of-type {\n        vertical-align: middle;\n    }\n\n    .dataframe tbody tr th {\n        vertical-align: top;\n    }\n\n    .dataframe thead th {\n        text-align: right;\n    }\n</style>\n<table border=\"1\" class=\"dataframe\">\n  <thead>\n    <tr style=\"text-align: right;\">\n      <th></th>\n      <th>chr</th>\n      <th>start</th>\n      <th>end</th>\n      <th>Rarg:Rarb</th>\n      <th>Nr2f6(var.2):Rarg:Rarb</th>\n      <th>Sox11:Sox1</th>\n      <th>Rxra:Hnf4a</th>\n      <th>REST_MOUSE.H11MO.0.A:SIN3A</th>\n      <th>CTCF_MOUSE.H11MO.0.A:CTCFL_MOUSE.H11MO.0.A</th>\n      <th>Nr2f6:Rxra:Hnf4a</th>\n      <th>...</th>\n      <th>Nkx2-5:Nkx2-5(var.2):Nkx3-2:Nkx3-1</th>\n      <th>SRF_MOUSE.H11MO.0.A:MEF2A_MOUSE.H11MO.0.A:MEF2C_MOUSE.H11MO.0.A:MEF2D_MOUSE.H11MO.0.A</th>\n      <th>TBP_MOUSE.H11MO.0.A:SRF_MOUSE.H11MO.0.A:MEF2A_MOUSE.H11MO.0.A:MEF2C_MOUSE.H11MO.0.A:MEF2D_MOUSE.H11MO.0.A</th>\n      <th>HAND1_MOUSE.H11MO.0.C:SMAD2_MOUSE.H11MO.0.A:Smad4:Hand1::Tcf3</th>\n      <th>DLX5_MOUSE.H11MO.0.C:SP7_MOUSE.H11MO.0.A:Arid3b:Lhx3:Phox2b:PROP1_MOUSE.H11MO.0.C:Barhl1:Pdx1:Lhx8:LHX2_MOUSE.H11MO.0.A:Hoxd3:Dlx1:Prrx2:Lhx4:Dlx3:Dlx4:Nobox:Arx:Alx1:Alx4:Hoxb5:VSX2_MOUSE.H11MO.0.C:Shox2:Msx3:Dlx2:Hoxd8:Hmx1:Hmx3:Hmx2</th>\n      <th>BARX1_MOUSE.H11MO.0.C:Nkx2-5:Nkx2-5(var.2):Nkx3-2:Nkx3-1</th>\n      <th>BATF3_MOUSE.H11MO.0.A:IRF7_MOUSE.H11MO.0.C:IRF9_MOUSE.H11MO.0.C:PRDM1_MOUSE.H11MO.0.A:STAT1_MOUSE.H11MO.0.A:IRF3_MOUSE.H11MO.0.A:IRF4_MOUSE.H11MO.0.A:IRF8_MOUSE.H11MO.0.A:STAT2_MOUSE.H11MO.0.A:IRF2_MOUSE.H11MO.0.B:IRF1_MOUSE.H11MO.0.A</th>\n      <th>Vdr:Nr1h3::Rxra:NR1I2_MOUSE.H11MO.0.C:Rarg(var.2):NR1I3_MOUSE.H11MO.0.C:Nr2e1:NR4A1_MOUSE.H11MO.0.B:RXRB_MOUSE.H11MO.0.C:NR4A2:Pparg::Rxra:PPARA_MOUSE.H11MO.0.A:PPARG_MOUSE.H11MO.0.A:NR2C2_MOUSE.H11MO.0.A:NR1H3_MOUSE.H11MO.0.A:NR2C1_MOUSE.H11MO.0.C:HNF4G_MOUSE.H11MO.0.C:Nr2f6:Rxra:Hnf4a:Nr2f6(var.2):Rarg:Rarb:RARA_MOUSE.H11MO.0.A:RXRG_MOUSE.H11MO.0.B:Rarb(var.2):Esrrg:Esrrb:Nr5a2:Esrra</th>\n      <th>Pax2:AHR_MOUSE.H11MO.0.B:Ahr::Arnt:HIF1A_MOUSE.H11MO.0.C:EPAS1_MOUSE.H11MO.0.C:ARNT::HIF1A</th>\n      <th>Rhox11:TBX21_MOUSE.H11MO.0.A:T:TBX3_MOUSE.H11MO.0.B:SMAD3_MOUSE.H11MO.0.B:LYL1_MOUSE.H11MO.0.A:ZEB1_MOUSE.H11MO.0.B:OLIG2_MOUSE.H11MO.0.A:SNAI1_MOUSE.H11MO.0.C:PTF1A_MOUSE.H11MO.0.A:MYF6_MOUSE.H11MO.0.C:Ascl2:Tcf3:Tcf21:ASCL1_MOUSE.H11MO.0.A:SNAI2_MOUSE.H11MO.0.A:Myod1:Tcf12:Myog</th>\n    </tr>\n  </thead>\n  <tbody>\n    <tr>\n      <th>0</th>\n      <td>1</td>\n      <td>10003185</td>\n      <td>10003787</td>\n      <td>5.551080e-18</td>\n      <td>1.080439e-17</td>\n      <td>1.571565e-14</td>\n      <td>9.004629e-13</td>\n      <td>1.111263e-12</td>\n      <td>3.667193e-09</td>\n      <td>1.232622e-12</td>\n      <td>...</td>\n      <td>0.035631</td>\n      <td>0.432756</td>\n      <td>0.361706</td>\n      <td>0.140793</td>\n      <td>4.599214</td>\n      <td>0.063753</td>\n      <td>0.208979</td>\n      <td>0.000611</td>\n      <td>0.027372</td>\n      <td>0.341525</td>\n    </tr>\n    <tr>\n      <th>1</th>\n      <td>1</td>\n      <td>10003946</td>\n      <td>10004305</td>\n      <td>4.040050e-17</td>\n      <td>3.391001e-17</td>\n      <td>7.154319e-13</td>\n      <td>1.687278e-13</td>\n      <td>1.505751e-10</td>\n      <td>1.912064e-08</td>\n      <td>2.023710e-13</td>\n      <td>...</td>\n      <td>0.001476</td>\n      <td>0.013081</td>\n      <td>0.052021</td>\n      <td>0.886253</td>\n      <td>5.130918</td>\n      <td>0.002798</td>\n      <td>0.126018</td>\n      <td>0.000098</td>\n      <td>0.023593</td>\n      <td>0.104607</td>\n    </tr>\n    <tr>\n      <th>2</th>\n      <td>1</td>\n      <td>10008807</td>\n      <td>10009195</td>\n      <td>2.013556e-15</td>\n      <td>2.064436e-15</td>\n      <td>6.547514e-13</td>\n      <td>3.317250e-09</td>\n      <td>4.346479e-13</td>\n      <td>1.110178e-06</td>\n      <td>3.724953e-09</td>\n      <td>...</td>\n      <td>0.062355</td>\n      <td>0.001708</td>\n      <td>0.008646</td>\n      <td>1.161372</td>\n      <td>1.681913</td>\n      <td>0.104272</td>\n      <td>0.022510</td>\n      <td>0.011183</td>\n      <td>0.092461</td>\n      <td>0.112446</td>\n    </tr>\n    <tr>\n      <th>3</th>\n      <td>1</td>\n      <td>10036598</td>\n      <td>10039670</td>\n      <td>2.830072e-13</td>\n      <td>3.907405e-13</td>\n      <td>1.554720e-09</td>\n      <td>6.478507e-11</td>\n      <td>2.825763e-10</td>\n      <td>8.689983e-05</td>\n      <td>7.480777e-11</td>\n      <td>...</td>\n      <td>0.270410</td>\n      <td>0.524621</td>\n      <td>1.254211</td>\n      <td>2.334575</td>\n      <td>33.214793</td>\n      <td>0.409306</td>\n      <td>0.478771</td>\n      <td>0.242861</td>\n      <td>0.193172</td>\n      <td>5.958660</td>\n    </tr>\n    <tr>\n      <th>4</th>\n      <td>1</td>\n      <td>10039734</td>\n      <td>10040637</td>\n      <td>2.595467e-16</td>\n      <td>7.974885e-15</td>\n      <td>5.789725e-12</td>\n      <td>4.044499e-11</td>\n      <td>6.600348e-08</td>\n      <td>1.957263e-05</td>\n      <td>5.405392e-11</td>\n      <td>...</td>\n      <td>0.005053</td>\n      <td>0.001140</td>\n      <td>0.027669</td>\n      <td>1.173398</td>\n      <td>3.201364</td>\n      <td>0.009581</td>\n      <td>0.025943</td>\n      <td>0.240126</td>\n      <td>0.105303</td>\n      <td>4.188511</td>\n    </tr>\n    <tr>\n      <th>...</th>\n      <td>...</td>\n      <td>...</td>\n      <td>...</td>\n      <td>...</td>\n      <td>...</td>\n      <td>...</td>\n      <td>...</td>\n      <td>...</td>\n      <td>...</td>\n      <td>...</td>\n      <td>...</td>\n      <td>...</td>\n      <td>...</td>\n      <td>...</td>\n      <td>...</td>\n      <td>...</td>\n      <td>...</td>\n      <td>...</td>\n      <td>...</td>\n      <td>...</td>\n      <td>...</td>\n    </tr>\n    <tr>\n      <th>34448</th>\n      <td>Y</td>\n      <td>90744290</td>\n      <td>90744601</td>\n      <td>4.068771e-19</td>\n      <td>4.182204e-18</td>\n      <td>4.111573e-16</td>\n      <td>6.107210e-11</td>\n      <td>1.558568e-12</td>\n      <td>4.818779e-04</td>\n      <td>7.170907e-11</td>\n      <td>...</td>\n      <td>0.000257</td>\n      <td>0.000016</td>\n      <td>0.000210</td>\n      <td>0.440417</td>\n      <td>0.040902</td>\n      <td>0.000490</td>\n      <td>0.365060</td>\n      <td>0.133532</td>\n      <td>0.011333</td>\n      <td>0.006710</td>\n    </tr>\n    <tr>\n      <th>34449</th>\n      <td>Y</td>\n      <td>90761699</td>\n      <td>90761911</td>\n      <td>2.784268e-21</td>\n      <td>6.869608e-21</td>\n      <td>3.559093e-16</td>\n      <td>2.008255e-13</td>\n      <td>2.084659e-14</td>\n      <td>3.586164e-06</td>\n      <td>2.648187e-13</td>\n      <td>...</td>\n      <td>0.001312</td>\n      <td>0.002146</td>\n      <td>0.015401</td>\n      <td>0.005706</td>\n      <td>1.311544</td>\n      <td>0.002330</td>\n      <td>0.066208</td>\n      <td>0.002778</td>\n      <td>0.418821</td>\n      <td>0.003448</td>\n    </tr>\n    <tr>\n      <th>34450</th>\n      <td>Y</td>\n      <td>90797829</td>\n      <td>90798020</td>\n      <td>3.215739e-21</td>\n      <td>3.449624e-21</td>\n      <td>2.516549e-16</td>\n      <td>5.120382e-11</td>\n      <td>9.834246e-15</td>\n      <td>1.913970e-10</td>\n      <td>5.981921e-11</td>\n      <td>...</td>\n      <td>0.007776</td>\n      <td>0.012858</td>\n      <td>0.026708</td>\n      <td>0.027481</td>\n      <td>3.459966</td>\n      <td>0.013886</td>\n      <td>0.037703</td>\n      <td>0.000394</td>\n      <td>0.001730</td>\n      <td>0.000449</td>\n    </tr>\n    <tr>\n      <th>34451</th>\n      <td>Y</td>\n      <td>90804817</td>\n      <td>90805131</td>\n      <td>8.654644e-15</td>\n      <td>8.080138e-15</td>\n      <td>2.221874e-08</td>\n      <td>4.167499e-12</td>\n      <td>1.236011e-14</td>\n      <td>1.376066e-08</td>\n      <td>4.558515e-12</td>\n      <td>...</td>\n      <td>0.005069</td>\n      <td>0.000110</td>\n      <td>0.002130</td>\n      <td>0.746285</td>\n      <td>4.139108</td>\n      <td>0.008869</td>\n      <td>0.008944</td>\n      <td>0.000601</td>\n      <td>0.001095</td>\n      <td>0.824339</td>\n    </tr>\n    <tr>\n      <th>34452</th>\n      <td>Y</td>\n      <td>90808686</td>\n      <td>90809045</td>\n      <td>1.608365e-15</td>\n      <td>1.571998e-15</td>\n      <td>3.163128e-13</td>\n      <td>6.010308e-14</td>\n      <td>4.549708e-12</td>\n      <td>3.808554e-03</td>\n      <td>7.796356e-14</td>\n      <td>...</td>\n      <td>0.014875</td>\n      <td>0.150488</td>\n      <td>0.186673</td>\n      <td>0.081454</td>\n      <td>11.289771</td>\n      <td>0.026017</td>\n      <td>0.010257</td>\n      <td>0.000960</td>\n      <td>0.261899</td>\n      <td>0.005224</td>\n    </tr>\n  </tbody>\n</table>\n<p>34453 rows × 309 columns</p>\n</div>"
     },
     "execution_count": 166,
     "metadata": {},
     "output_type": "execute_result"
    }
   ],
   "source": [
    "p = re.compile('STAT', re.IGNORECASE)\n",
    "tf_candidates = [x for x in full_df.columns if p.match(x)]\n",
    "print(tf_candidates)\n",
    "full_df[tf_candidates].median()\n",
    "full_df"
   ],
   "metadata": {
    "collapsed": false,
    "pycharm": {
     "name": "#%%\n"
    }
   }
  },
  {
   "cell_type": "markdown",
   "source": [
    "Convert to bed files"
   ],
   "metadata": {
    "collapsed": false
   }
  },
  {
   "cell_type": "code",
   "execution_count": 167,
   "outputs": [
    {
     "name": "stdout",
     "output_type": "stream",
     "text": [
      "TF: STAT2_MOUSE.H11MO.0.A:IRF2_MOUSE.H11MO.0.B:IRF1_MOUSE.H11MO.0.A | Min: 1.0001834609999998 | Max: 3239.2273889999997 | Mean: 78.56995990749321\n",
      "Output file: /home/kevin/tmp/group1_hic/bed_files/STAT2_MOUSE.H11MO.0.A-IRF2_MOUSE.H11MO.0.B-IRF1_MOUSE.H11MO.0.A.bed\n",
      "TF: Stat4:Stat3 | Min: 1.000877793 | Max: 1843.6660180000001 | Mean: 103.00479882584256\n",
      "Output file: /home/kevin/tmp/group1_hic/bed_files/Stat4-Stat3.bed\n",
      "TF: Stat5a::Stat5b:Stat4:Stat3 | Min: 1.0001872990000003 | Max: 3289.738836 | Mean: 190.8949264777811\n",
      "Output file: /home/kevin/tmp/group1_hic/bed_files/Stat5a--Stat5b-Stat4-Stat3.bed\n",
      "TF: STAT1_MOUSE.H11MO.0.A:IRF3_MOUSE.H11MO.0.A:IRF4_MOUSE.H11MO.0.A:IRF8_MOUSE.H11MO.0.A:STAT2_MOUSE.H11MO.0.A:IRF2_MOUSE.H11MO.0.B:IRF1_MOUSE.H11MO.0.A | Min: 1.000268948 | Max: 14708.14352 | Mean: 228.50740566086148\n",
      "Output file: /home/kevin/tmp/group1_hic/bed_files/STAT1_MOUSE.H11MO.0.A-IRF3_MOUSE.H11MO.0.A-IRF4_MOUSE.H11MO.0.A-IRF8_MOUSE.H11MO.0.A-STAT2_MOUSE.H11MO.0.A-IRF2_MOUSE.H11MO.0.B-IRF1_MOUSE.H11MO.0.A.bed\n",
      "TF: Stat6:Bcl6:Stat5a::Stat5b:Stat4:Stat3 | Min: 1.0019432689999999 | Max: 6035.787144999999 | Mean: 446.31074677517023\n",
      "Output file: /home/kevin/tmp/group1_hic/bed_files/Stat6-Bcl6-Stat5a--Stat5b-Stat4-Stat3.bed\n"
     ]
    },
    {
     "name": "stderr",
     "output_type": "stream",
     "text": [
      "<ipython-input-167-22977be71369>:23: SettingWithCopyWarning: \n",
      "A value is trying to be set on a copy of a slice from a DataFrame.\n",
      "Try using .loc[row_indexer,col_indexer] = value instead\n",
      "\n",
      "See the caveats in the documentation: https://pandas.pydata.org/pandas-docs/stable/user_guide/indexing.html#returning-a-view-versus-a-copy\n",
      "  output_df[tf] = output_df[tf] * 1000\n"
     ]
    }
   ],
   "source": [
    "def format_filename(s):\n",
    "    \"\"\"Take a string and return a valid filename constructed from the string.\n",
    "Uses a whitelist approach: any characters not present in valid_chars are\n",
    "removed. Also spaces are replaced with underscores.\n",
    "\n",
    "Note: this method may produce invalid filenames such as ``, `.` or `..`\n",
    "When I use this method I prepend a date string like '2009_01_15_19_46_32_'\n",
    "and append a file extension like '.txt', so I avoid the potential of using\n",
    "an invalid filename.\n",
    "\n",
    "Source: https://gist.github.com/seanh/93666\n",
    "\n",
    "\"\"\"\n",
    "    valid_chars = \":-_.() %s%s\" % (string.ascii_letters, string.digits)\n",
    "    filename = ''.join(c for c in s if c in valid_chars)\n",
    "    filename = filename.replace(' ','_') # I don't like spaces in filenames.\n",
    "    filename = filename.replace(':','-') # I don't like spaces in filenames.\n",
    "    return filename\n",
    "\n",
    "for tf in tf_candidates:\n",
    "    output_file_path = os.path.join(output_dir, format_filename(tf) + '.bed')\n",
    "    output_df = full_df[['chr', 'start', 'end', tf]]\n",
    "    output_df[tf] = output_df[tf] * 1000\n",
    "    output_df.insert(3, 'name', tf)\n",
    "    output_df.insert(5, 'strand', '.')\n",
    "    output_df = output_df.loc[output_df[tf] >= 1]\n",
    "    print(f'TF: {tf} | Min: {output_df[tf].min()} | Max: {output_df[tf].max()} | Mean: {output_df[tf].mean()}')\n",
    "    print(f'Output file: {output_file_path}')\n",
    "    output_df.to_csv(output_file_path, index=False, header=False, sep='\\t')"
   ],
   "metadata": {
    "collapsed": false,
    "pycharm": {
     "name": "#%%\n"
    }
   }
  },
  {
   "cell_type": "markdown",
   "source": [
    "Create negative peaks"
   ],
   "metadata": {
    "collapsed": false,
    "pycharm": {
     "name": "#%% md\n"
    }
   }
  },
  {
   "cell_type": "code",
   "execution_count": 168,
   "outputs": [],
   "source": [
    "# Sort DF\n",
    "sorted_full_df = full_df\n",
    "sorted_full_df[['start', 'end']] = sorted_full_df[['start', 'end']].astype(int)\n",
    "sorted_full_df = sorted_full_df.sort_values('start')"
   ],
   "metadata": {
    "collapsed": false,
    "pycharm": {
     "name": "#%%\n"
    }
   }
  },
  {
   "cell_type": "code",
   "execution_count": 169,
   "outputs": [
    {
     "name": "stdout",
     "output_type": "stream",
     "text": [
      "Positive peak mean: 919.2600063855107\n",
      "Positive peak min: 191\n",
      "Positive peak max: 12084\n",
      "RANDOM [1731  613  655 ... 1511 1236  775]\n",
      "RANDOM min 11\n",
      "RANDOM max 3775\n",
      "MEAN 596.7403741496598\n",
      "Length 29400\n"
     ]
    },
    {
     "name": "stderr",
     "output_type": "stream",
     "text": [
      "100%|██████████| 34452/34452 [04:54<00:00, 116.86it/s]\n"
     ]
    }
   ],
   "source": [
    "# Calculate mean of peak width\n",
    "p_peaks = sorted_full_df['end'] - sorted_full_df['start']\n",
    "peak_mean = p_peaks.mean()\n",
    "peak_count = sorted_full_df.shape[1]\n",
    "print(f'Positive peak mean: {peak_mean}')\n",
    "print(f'Positive peak min: {p_peaks.min()}')\n",
    "print(f'Positive peak max: {p_peaks.max()}')\n",
    "\n",
    "# Calculate negative space\n",
    "n_peaks = pd.DataFrame({'chr': sorted_full_df['chr'], 'start': sorted_full_df['end'].shift(1), 'end': sorted_full_df['start']}).dropna()\n",
    "n_output_df = pd.DataFrame(columns=['chr','start','end','name','score','strand'])\n",
    "\n",
    "np.random.seed(1)\n",
    "random.seed(1)\n",
    "\n",
    "peak_length_random = np.random.normal(loc = peak_mean, scale = 500, size = int(len(p_peaks)*1000)).astype(int)\n",
    "peak_length_random = peak_length_random[peak_length_random > 10]\n",
    "print(f'RANDOM {peak_length_random}')\n",
    "print(f'RANDOM min {peak_length_random.min()}')\n",
    "print(f'RANDOM max {peak_length_random.max()}')\n",
    "counter = 0\n",
    "for index, row in tqdm.tqdm(n_peaks.iterrows(), total=n_peaks.shape[0]):\n",
    "    gap_length = row['end'] - row['start']\n",
    "    peak_length = 0\n",
    "\n",
    "    # Get peak length smaller than gap\n",
    "    for _ in range(1000):\n",
    "        peak_length = peak_length_random[counter]\n",
    "        counter += 1\n",
    "        if peak_length <= gap_length:\n",
    "            break\n",
    "\n",
    "    # Get start offset\n",
    "    offset = 0\n",
    "    try:\n",
    "        offset = random.randint(0, int(gap_length - peak_length))\n",
    "    except ValueError:\n",
    "        continue\n",
    "\n",
    "    # Add row to df\n",
    "    row_start = row['start'] + offset\n",
    "\n",
    "    n_output_df.loc[index] = [row['chr'], row_start, row_start + peak_length, 'n_peak', 1, '.']\n",
    "\n",
    "# No digits\n",
    "n_output_df[[\"start\", \"end\"]] = n_output_df[[\"start\", \"end\"]].astype(int)\n",
    "# Sort\n",
    "n_output_df = n_output_df.sort_values(['chr', 'start'])\n",
    "\n",
    "print(f\"MEAN {(n_output_df['end'] - n_output_df['start']).mean()}\")\n",
    "print(f\"Length {len(n_output_df['start'])}\")\n",
    "n_output_df.to_csv(os.path.join(output_dir, 'negative_peak.bed'), index=False, header=False, sep='\\t')"
   ],
   "metadata": {
    "collapsed": false,
    "pycharm": {
     "name": "#%%\n"
    }
   }
  }
 ],
 "metadata": {
  "kernelspec": {
   "display_name": "Python 3",
   "language": "python",
   "name": "python3"
  },
  "language_info": {
   "codemirror_mode": {
    "name": "ipython",
    "version": 2
   },
   "file_extension": ".py",
   "mimetype": "text/x-python",
   "name": "python",
   "nbconvert_exporter": "python",
   "pygments_lexer": "ipython2",
   "version": "2.7.6"
  }
 },
 "nbformat": 4,
 "nbformat_minor": 0
}