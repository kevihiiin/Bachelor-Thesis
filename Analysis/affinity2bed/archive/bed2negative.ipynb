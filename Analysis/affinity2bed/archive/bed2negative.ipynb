{
 "cells": [
  {
   "cell_type": "code",
   "execution_count": 59,
   "metadata": {
    "collapsed": true
   },
   "outputs": [],
   "source": [
    "import os\n",
    "import re\n",
    "import math\n",
    "import random\n",
    "import string\n",
    "import tqdm\n",
    "import numpy as np\n",
    "import pandas as pd\n",
    "import seaborn as sns\n",
    "import matplotlib.pyplot as plt\n",
    "from scipy import stats\n",
    "\n",
    "input_file_path = '/home/kevin/tmp/TRASH/WT_L1_STAT5_R12_peaks.narrowPeak'\n",
    "output_dir = '/home/kevin/tmp/group1_hic/bed_files/reference'"
   ]
  },
  {
   "cell_type": "markdown",
   "source": [
    "Parse input file as DataFrame"
   ],
   "metadata": {
    "collapsed": false
   }
  },
  {
   "cell_type": "code",
   "execution_count": 60,
   "outputs": [
    {
     "data": {
      "text/plain": "      chr      start        end                        name  score strand  \\\n0       1    4718107    4718222      WT_L1_STAT5_R12_peak_1     22      .   \n1       1    5022783    5023125      WT_L1_STAT5_R12_peak_2    139      .   \n2       1    5055800    5055927      WT_L1_STAT5_R12_peak_3     94      .   \n3       1    6784206    6784672      WT_L1_STAT5_R12_peak_4   1020      .   \n4       1    6821053    6821197      WT_L1_STAT5_R12_peak_5    139      .   \n...    ..        ...        ...                         ...    ...    ...   \n19064   X  169994656  169994800  WT_L1_STAT5_R12_peak_19065     69      .   \n19065   X  170673429  170673563  WT_L1_STAT5_R12_peak_19066     69      .   \n19066   Y   90740380   90740590  WT_L1_STAT5_R12_peak_19067     72      .   \n19067   Y   90808789   90808915  WT_L1_STAT5_R12_peak_19068    139      .   \n19068   Y   90812253   90812386  WT_L1_STAT5_R12_peak_19069     48      .   \n\n       signalValue     pValue     qValue  peak  \n0          3.99754    5.08049    2.23294    58  \n1          9.88213   17.32233   13.92304   292  \n2          5.99614   12.68394    9.43826    66  \n3         37.05707  107.24054  102.08067   240  \n4          9.88213   17.32233   13.92304    63  \n...            ...        ...        ...   ...  \n19064      6.91759   10.07963    6.93860   102  \n19065      6.91759   10.07963    6.93860    99  \n19066      6.85128   10.37328    7.22084    65  \n19067      9.88213   17.32233   13.92304    62  \n19068      5.92941    7.90025    4.86243    61  \n\n[19069 rows x 10 columns]",
      "text/html": "<div>\n<style scoped>\n    .dataframe tbody tr th:only-of-type {\n        vertical-align: middle;\n    }\n\n    .dataframe tbody tr th {\n        vertical-align: top;\n    }\n\n    .dataframe thead th {\n        text-align: right;\n    }\n</style>\n<table border=\"1\" class=\"dataframe\">\n  <thead>\n    <tr style=\"text-align: right;\">\n      <th></th>\n      <th>chr</th>\n      <th>start</th>\n      <th>end</th>\n      <th>name</th>\n      <th>score</th>\n      <th>strand</th>\n      <th>signalValue</th>\n      <th>pValue</th>\n      <th>qValue</th>\n      <th>peak</th>\n    </tr>\n  </thead>\n  <tbody>\n    <tr>\n      <th>0</th>\n      <td>1</td>\n      <td>4718107</td>\n      <td>4718222</td>\n      <td>WT_L1_STAT5_R12_peak_1</td>\n      <td>22</td>\n      <td>.</td>\n      <td>3.99754</td>\n      <td>5.08049</td>\n      <td>2.23294</td>\n      <td>58</td>\n    </tr>\n    <tr>\n      <th>1</th>\n      <td>1</td>\n      <td>5022783</td>\n      <td>5023125</td>\n      <td>WT_L1_STAT5_R12_peak_2</td>\n      <td>139</td>\n      <td>.</td>\n      <td>9.88213</td>\n      <td>17.32233</td>\n      <td>13.92304</td>\n      <td>292</td>\n    </tr>\n    <tr>\n      <th>2</th>\n      <td>1</td>\n      <td>5055800</td>\n      <td>5055927</td>\n      <td>WT_L1_STAT5_R12_peak_3</td>\n      <td>94</td>\n      <td>.</td>\n      <td>5.99614</td>\n      <td>12.68394</td>\n      <td>9.43826</td>\n      <td>66</td>\n    </tr>\n    <tr>\n      <th>3</th>\n      <td>1</td>\n      <td>6784206</td>\n      <td>6784672</td>\n      <td>WT_L1_STAT5_R12_peak_4</td>\n      <td>1020</td>\n      <td>.</td>\n      <td>37.05707</td>\n      <td>107.24054</td>\n      <td>102.08067</td>\n      <td>240</td>\n    </tr>\n    <tr>\n      <th>4</th>\n      <td>1</td>\n      <td>6821053</td>\n      <td>6821197</td>\n      <td>WT_L1_STAT5_R12_peak_5</td>\n      <td>139</td>\n      <td>.</td>\n      <td>9.88213</td>\n      <td>17.32233</td>\n      <td>13.92304</td>\n      <td>63</td>\n    </tr>\n    <tr>\n      <th>...</th>\n      <td>...</td>\n      <td>...</td>\n      <td>...</td>\n      <td>...</td>\n      <td>...</td>\n      <td>...</td>\n      <td>...</td>\n      <td>...</td>\n      <td>...</td>\n      <td>...</td>\n    </tr>\n    <tr>\n      <th>19064</th>\n      <td>X</td>\n      <td>169994656</td>\n      <td>169994800</td>\n      <td>WT_L1_STAT5_R12_peak_19065</td>\n      <td>69</td>\n      <td>.</td>\n      <td>6.91759</td>\n      <td>10.07963</td>\n      <td>6.93860</td>\n      <td>102</td>\n    </tr>\n    <tr>\n      <th>19065</th>\n      <td>X</td>\n      <td>170673429</td>\n      <td>170673563</td>\n      <td>WT_L1_STAT5_R12_peak_19066</td>\n      <td>69</td>\n      <td>.</td>\n      <td>6.91759</td>\n      <td>10.07963</td>\n      <td>6.93860</td>\n      <td>99</td>\n    </tr>\n    <tr>\n      <th>19066</th>\n      <td>Y</td>\n      <td>90740380</td>\n      <td>90740590</td>\n      <td>WT_L1_STAT5_R12_peak_19067</td>\n      <td>72</td>\n      <td>.</td>\n      <td>6.85128</td>\n      <td>10.37328</td>\n      <td>7.22084</td>\n      <td>65</td>\n    </tr>\n    <tr>\n      <th>19067</th>\n      <td>Y</td>\n      <td>90808789</td>\n      <td>90808915</td>\n      <td>WT_L1_STAT5_R12_peak_19068</td>\n      <td>139</td>\n      <td>.</td>\n      <td>9.88213</td>\n      <td>17.32233</td>\n      <td>13.92304</td>\n      <td>62</td>\n    </tr>\n    <tr>\n      <th>19068</th>\n      <td>Y</td>\n      <td>90812253</td>\n      <td>90812386</td>\n      <td>WT_L1_STAT5_R12_peak_19069</td>\n      <td>48</td>\n      <td>.</td>\n      <td>5.92941</td>\n      <td>7.90025</td>\n      <td>4.86243</td>\n      <td>61</td>\n    </tr>\n  </tbody>\n</table>\n<p>19069 rows × 10 columns</p>\n</div>"
     },
     "execution_count": 60,
     "metadata": {},
     "output_type": "execute_result"
    }
   ],
   "source": [
    "full_df = pd.read_table(input_file_path, names= ['chr', 'start', 'end', 'name', 'score', 'strand', 'signalValue', 'pValue', 'qValue', 'peak'])\n",
    "full_df"
   ],
   "metadata": {
    "collapsed": false,
    "pycharm": {
     "name": "#%%\n"
    }
   }
  },
  {
   "cell_type": "markdown",
   "source": [
    "Create negative peaks"
   ],
   "metadata": {
    "collapsed": false,
    "pycharm": {
     "name": "#%% md\n"
    }
   }
  },
  {
   "cell_type": "code",
   "execution_count": 61,
   "outputs": [],
   "source": [
    "# Sort DF\n",
    "sorted_full_df = full_df\n",
    "sorted_full_df[['start', 'end']] = sorted_full_df[['start', 'end']].astype(int)\n",
    "sorted_full_df = sorted_full_df.sort_values('start')"
   ],
   "metadata": {
    "collapsed": false,
    "pycharm": {
     "name": "#%%\n"
    }
   }
  },
  {
   "cell_type": "code",
   "execution_count": 62,
   "outputs": [
    {
     "data": {
      "text/plain": "<AxesSubplot:>"
     },
     "execution_count": 62,
     "metadata": {},
     "output_type": "execute_result"
    },
    {
     "data": {
      "text/plain": "<Figure size 432x288 with 1 Axes>",
      "image/png": "[encoded data removed]"
     },
     "metadata": {
      "needs_background": "light"
     },
     "output_type": "display_data"
    }
   ],
   "source": [
    "# Calculate mean of peak width\n",
    "p_peaks = sorted_full_df['end'] - sorted_full_df['start']\n",
    "sns.distplot(p_peaks)"
   ],
   "metadata": {
    "collapsed": false,
    "pycharm": {
     "name": "#%%\n"
    }
   }
  },
  {
   "cell_type": "code",
   "execution_count": 65,
   "outputs": [
    {
     "name": "stdout",
     "output_type": "stream",
     "text": [
      "(0.7974863783010937, 87.41189137458139, 97.7127068870126)\n",
      "91.00009097978247\n",
      "3006.4233909593236\n",
      "219.12429343874828\n",
      "15393.68518520732\n",
      "124.07129073725041\n",
      "\n",
      "108\n",
      "1705\n",
      "218.5376789553726\n",
      "10728.262753181798\n",
      "103.5773274089547\n"
     ]
    },
    {
     "data": {
      "text/plain": "<AxesSubplot:>"
     },
     "execution_count": 65,
     "metadata": {},
     "output_type": "execute_result"
    },
    {
     "data": {
      "text/plain": "<Figure size 432x288 with 1 Axes>",
      "image/png": "[encoded data removed]"
     },
     "metadata": {
      "needs_background": "light"
     },
     "output_type": "display_data"
    }
   ],
   "source": [
    "import scipy.stats as st\n",
    "# def get_best_distribution(data):\n",
    "#     dist_names = [\"norm\", \"gamma\",\"exponweib\", \"weibull_max\", \"weibull_min\", \"pareto\", \"genextreme\", \"lognorm\"]\n",
    "#     dist_results = []\n",
    "#     params = {}\n",
    "#     for dist_name in dist_names:\n",
    "#         dist = getattr(st, dist_name)\n",
    "#         param = dist.fit(data)\n",
    "#\n",
    "#         params[dist_name] = param\n",
    "#         # Applying the Kolmogorov-Smirnov test\n",
    "#         D, p = st.kstest(data, dist_name, args=param)\n",
    "#         print(\"p value for \"+dist_name+\" = \"+str(p))\n",
    "#         dist_results.append((dist_name, p))\n",
    "#\n",
    "#     # select the best fitted distribution\n",
    "#     best_dist, best_p = (min(dist_results, key=lambda item: item[1]))\n",
    "#     # store the name of the best fit and its p value\n",
    "#\n",
    "#     print(\"Best fitting distribution: \"+str(best_dist))\n",
    "#     print(\"Best p value: \"+ str(best_p))\n",
    "#     print(\"Parameters for the best fit: \"+ str(params[best_dist]))\n",
    "#\n",
    "#     return best_dist, best_p, params\n",
    "#\n",
    "# _, _, params = get_best_distribution(p_peaks)\n",
    "parameters = stats.lognorm.fit(p_peaks, loc=0)\n",
    "print(parameters)\n",
    "sns.distplot(p_peaks)\n",
    "gamma = stats.lognorm.rvs(parameters[0], parameters[1], parameters[2], size=10000)\n",
    "print(gamma.min())\n",
    "print(gamma.max())\n",
    "print(gamma.mean())\n",
    "print(gamma.var())\n",
    "print(gamma.std())\n",
    "print()\n",
    "print(p_peaks.min())\n",
    "print(p_peaks.max())\n",
    "print(p_peaks.mean())\n",
    "print(p_peaks.var())\n",
    "print(p_peaks.std())\n",
    "\n",
    "sns.distplot(gamma)"
   ],
   "metadata": {
    "collapsed": false,
    "pycharm": {
     "name": "#%%\n"
    }
   }
  },
  {
   "cell_type": "code",
   "execution_count": null,
   "outputs": [],
   "source": [
    "peak_mean = p_peaks.mean()\n",
    "peak_count = sorted_full_df.shape[1]\n",
    "print(f'Positive peak mean: {peak_mean}')\n",
    "print(f'Positive peak min: {p_peaks.min()}')\n",
    "print(f'Positive peak max: {p_peaks.max()}')\n",
    "\n",
    "# Calculate negative space\n",
    "n_peaks = pd.DataFrame({'chr': sorted_full_df['chr'], 'start': sorted_full_df['end'].shift(1), 'end': sorted_full_df['start']}).dropna()\n",
    "n_output_df = pd.DataFrame(columns=['chr','start','end','name','score','strand'])\n",
    "\n",
    "np.random.seed(1)\n",
    "random.seed(1)\n",
    "\n",
    "peak_length_random = np.random.normal(loc = peak_mean, scale = 500, size = int(len(p_peaks)*1000)).astype(int)\n",
    "peak_length_random = peak_length_random[peak_length_random > 10]\n",
    "print(f'RANDOM {peak_length_random}')\n",
    "print(f'RANDOM min {peak_length_random.min()}')\n",
    "print(f'RANDOM max {peak_length_random.max()}')\n",
    "counter = 0\n",
    "for index, row in tqdm.tqdm(n_peaks.iterrows(), total=n_peaks.shape[0]):\n",
    "    gap_length = row['end'] - row['start']\n",
    "    peak_length = 0\n",
    "\n",
    "    # Get peak length smaller than gap\n",
    "    for _ in range(1000):\n",
    "        peak_length = peak_length_random[counter]\n",
    "        counter += 1\n",
    "        if peak_length <= gap_length:\n",
    "            break\n",
    "\n",
    "    # Get start offset\n",
    "    offset = 0\n",
    "    try:\n",
    "        offset = random.randint(0, int(gap_length - peak_length))\n",
    "    except ValueError:\n",
    "        continue\n",
    "\n",
    "    # Add row to df\n",
    "    row_start = row['start'] + offset\n",
    "\n",
    "    n_output_df.loc[index] = [row['chr'], row_start, row_start + peak_length, 'n_peak', 1, '.']\n",
    "\n",
    "# No digits\n",
    "n_output_df[[\"start\", \"end\"]] = n_output_df[[\"start\", \"end\"]].astype(int)\n",
    "# Sort\n",
    "n_output_df = n_output_df.sort_values(['chr', 'start'])\n",
    "\n",
    "print(f\"MEAN {(n_output_df['end'] - n_output_df['start']).mean()}\")\n",
    "print(f\"Length {len(n_output_df['start'])}\")\n",
    "n_output_df.to_csv(os.path.join(output_dir, 'negative_peak.bed'), index=False, header=False, sep='\\t')"
   ],
   "metadata": {
    "collapsed": false,
    "pycharm": {
     "name": "#%%\n"
    }
   }
  }
 ],
 "metadata": {
  "kernelspec": {
   "display_name": "Python 3",
   "language": "python",
   "name": "python3"
  },
  "language_info": {
   "codemirror_mode": {
    "name": "ipython",
    "version": 2
   },
   "file_extension": ".py",
   "mimetype": "text/x-python",
   "name": "python",
   "nbconvert_exporter": "python",
   "pygments_lexer": "ipython2",
   "version": "2.7.6"
  }
 },
 "nbformat": 4,
 "nbformat_minor": 0
}