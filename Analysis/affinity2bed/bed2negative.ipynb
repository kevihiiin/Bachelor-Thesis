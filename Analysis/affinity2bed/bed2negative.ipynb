{
 "cells": [
  {
   "cell_type": "code",
   "execution_count": 6,
   "metadata": {
    "collapsed": true
   },
   "outputs": [],
   "source": [
    "import os\n",
    "import re\n",
    "import random\n",
    "import string\n",
    "import tqdm\n",
    "import numpy as np\n",
    "import pandas as pd\n",
    "import seaborn as sns\n",
    "import matplotlib.pyplot as plt\n",
    "\n",
    "input_file_path = '/home/kevin/tmp/group1_hic/bed_files/WT_L1_STAT5_R12_peaks.narrowPeak'\n",
    "output_dir = '/home/kevin/tmp/group1_hic/bed_files/reference'"
   ]
  },
  {
   "cell_type": "markdown",
   "source": [
    "Parse input file as DataFrame"
   ],
   "metadata": {
    "collapsed": false
   }
  },
  {
   "cell_type": "code",
   "execution_count": 7,
   "outputs": [
    {
     "data": {
      "text/plain": "      chr      start        end                        name  score strand  \\\n0       1    4718107    4718222      WT_L1_STAT5_R12_peak_1     22      .   \n1       1    5022783    5023125      WT_L1_STAT5_R12_peak_2    139      .   \n2       1    5055800    5055927      WT_L1_STAT5_R12_peak_3     94      .   \n3       1    6784206    6784672      WT_L1_STAT5_R12_peak_4   1020      .   \n4       1    6821053    6821197      WT_L1_STAT5_R12_peak_5    139      .   \n...    ..        ...        ...                         ...    ...    ...   \n19064   X  169994656  169994800  WT_L1_STAT5_R12_peak_19065     69      .   \n19065   X  170673429  170673563  WT_L1_STAT5_R12_peak_19066     69      .   \n19066   Y   90740380   90740590  WT_L1_STAT5_R12_peak_19067     72      .   \n19067   Y   90808789   90808915  WT_L1_STAT5_R12_peak_19068    139      .   \n19068   Y   90812253   90812386  WT_L1_STAT5_R12_peak_19069     48      .   \n\n       signalValue     pValue     qValue  peak  \n0          3.99754    5.08049    2.23294    58  \n1          9.88213   17.32233   13.92304   292  \n2          5.99614   12.68394    9.43826    66  \n3         37.05707  107.24054  102.08067   240  \n4          9.88213   17.32233   13.92304    63  \n...            ...        ...        ...   ...  \n19064      6.91759   10.07963    6.93860   102  \n19065      6.91759   10.07963    6.93860    99  \n19066      6.85128   10.37328    7.22084    65  \n19067      9.88213   17.32233   13.92304    62  \n19068      5.92941    7.90025    4.86243    61  \n\n[19069 rows x 10 columns]",
      "text/html": "<div>\n<style scoped>\n    .dataframe tbody tr th:only-of-type {\n        vertical-align: middle;\n    }\n\n    .dataframe tbody tr th {\n        vertical-align: top;\n    }\n\n    .dataframe thead th {\n        text-align: right;\n    }\n</style>\n<table border=\"1\" class=\"dataframe\">\n  <thead>\n    <tr style=\"text-align: right;\">\n      <th></th>\n      <th>chr</th>\n      <th>start</th>\n      <th>end</th>\n      <th>name</th>\n      <th>score</th>\n      <th>strand</th>\n      <th>signalValue</th>\n      <th>pValue</th>\n      <th>qValue</th>\n      <th>peak</th>\n    </tr>\n  </thead>\n  <tbody>\n    <tr>\n      <th>0</th>\n      <td>1</td>\n      <td>4718107</td>\n      <td>4718222</td>\n      <td>WT_L1_STAT5_R12_peak_1</td>\n      <td>22</td>\n      <td>.</td>\n      <td>3.99754</td>\n      <td>5.08049</td>\n      <td>2.23294</td>\n      <td>58</td>\n    </tr>\n    <tr>\n      <th>1</th>\n      <td>1</td>\n      <td>5022783</td>\n      <td>5023125</td>\n      <td>WT_L1_STAT5_R12_peak_2</td>\n      <td>139</td>\n      <td>.</td>\n      <td>9.88213</td>\n      <td>17.32233</td>\n      <td>13.92304</td>\n      <td>292</td>\n    </tr>\n    <tr>\n      <th>2</th>\n      <td>1</td>\n      <td>5055800</td>\n      <td>5055927</td>\n      <td>WT_L1_STAT5_R12_peak_3</td>\n      <td>94</td>\n      <td>.</td>\n      <td>5.99614</td>\n      <td>12.68394</td>\n      <td>9.43826</td>\n      <td>66</td>\n    </tr>\n    <tr>\n      <th>3</th>\n      <td>1</td>\n      <td>6784206</td>\n      <td>6784672</td>\n      <td>WT_L1_STAT5_R12_peak_4</td>\n      <td>1020</td>\n      <td>.</td>\n      <td>37.05707</td>\n      <td>107.24054</td>\n      <td>102.08067</td>\n      <td>240</td>\n    </tr>\n    <tr>\n      <th>4</th>\n      <td>1</td>\n      <td>6821053</td>\n      <td>6821197</td>\n      <td>WT_L1_STAT5_R12_peak_5</td>\n      <td>139</td>\n      <td>.</td>\n      <td>9.88213</td>\n      <td>17.32233</td>\n      <td>13.92304</td>\n      <td>63</td>\n    </tr>\n    <tr>\n      <th>...</th>\n      <td>...</td>\n      <td>...</td>\n      <td>...</td>\n      <td>...</td>\n      <td>...</td>\n      <td>...</td>\n      <td>...</td>\n      <td>...</td>\n      <td>...</td>\n      <td>...</td>\n    </tr>\n    <tr>\n      <th>19064</th>\n      <td>X</td>\n      <td>169994656</td>\n      <td>169994800</td>\n      <td>WT_L1_STAT5_R12_peak_19065</td>\n      <td>69</td>\n      <td>.</td>\n      <td>6.91759</td>\n      <td>10.07963</td>\n      <td>6.93860</td>\n      <td>102</td>\n    </tr>\n    <tr>\n      <th>19065</th>\n      <td>X</td>\n      <td>170673429</td>\n      <td>170673563</td>\n      <td>WT_L1_STAT5_R12_peak_19066</td>\n      <td>69</td>\n      <td>.</td>\n      <td>6.91759</td>\n      <td>10.07963</td>\n      <td>6.93860</td>\n      <td>99</td>\n    </tr>\n    <tr>\n      <th>19066</th>\n      <td>Y</td>\n      <td>90740380</td>\n      <td>90740590</td>\n      <td>WT_L1_STAT5_R12_peak_19067</td>\n      <td>72</td>\n      <td>.</td>\n      <td>6.85128</td>\n      <td>10.37328</td>\n      <td>7.22084</td>\n      <td>65</td>\n    </tr>\n    <tr>\n      <th>19067</th>\n      <td>Y</td>\n      <td>90808789</td>\n      <td>90808915</td>\n      <td>WT_L1_STAT5_R12_peak_19068</td>\n      <td>139</td>\n      <td>.</td>\n      <td>9.88213</td>\n      <td>17.32233</td>\n      <td>13.92304</td>\n      <td>62</td>\n    </tr>\n    <tr>\n      <th>19068</th>\n      <td>Y</td>\n      <td>90812253</td>\n      <td>90812386</td>\n      <td>WT_L1_STAT5_R12_peak_19069</td>\n      <td>48</td>\n      <td>.</td>\n      <td>5.92941</td>\n      <td>7.90025</td>\n      <td>4.86243</td>\n      <td>61</td>\n    </tr>\n  </tbody>\n</table>\n<p>19069 rows × 10 columns</p>\n</div>"
     },
     "execution_count": 7,
     "metadata": {},
     "output_type": "execute_result"
    }
   ],
   "source": [
    "full_df = pd.read_table(input_file_path, names= ['chr', 'start', 'end', 'name', 'score', 'strand', 'signalValue', 'pValue', 'qValue', 'peak'])\n",
    "full_df"
   ],
   "metadata": {
    "collapsed": false,
    "pycharm": {
     "name": "#%%\n"
    }
   }
  },
  {
   "cell_type": "markdown",
   "source": [
    "Create negative peaks"
   ],
   "metadata": {
    "collapsed": false,
    "pycharm": {
     "name": "#%% md\n"
    }
   }
  },
  {
   "cell_type": "code",
   "execution_count": 8,
   "outputs": [],
   "source": [
    "# Sort DF\n",
    "sorted_full_df = full_df\n",
    "sorted_full_df[['start', 'end']] = sorted_full_df[['start', 'end']].astype(int)\n",
    "sorted_full_df = sorted_full_df.sort_values('start')"
   ],
   "metadata": {
    "collapsed": false,
    "pycharm": {
     "name": "#%%\n"
    }
   }
  },
  {
   "cell_type": "code",
   "execution_count": 9,
   "outputs": [
    {
     "name": "stdout",
     "output_type": "stream",
     "text": [
      "Positive peak mean: 218.5376789553726\n",
      "Positive peak min: 108\n",
      "Positive peak max: 1705\n",
      "RANDOM [1030  651 1090 ...  551   64  130]\n",
      "RANDOM min 11\n",
      "RANDOM max 2809\n",
      "MEAN 432.5306934954538\n",
      "Length 18587\n"
     ]
    },
    {
     "name": "stderr",
     "output_type": "stream",
     "text": [
      "100%|██████████| 19068/19068 [03:17<00:00, 96.76it/s] \n"
     ]
    },
    {
     "ename": "FileNotFoundError",
     "evalue": "[Errno 2] No such file or directory: '/home/kevin/tmp/group1_hic/bed_files/reference/negative_peak.bed'",
     "output_type": "error",
     "traceback": [
      "\u001B[0;31m---------------------------------------------------------------------------\u001B[0m",
      "\u001B[0;31mFileNotFoundError\u001B[0m                         Traceback (most recent call last)",
      "\u001B[0;32m<ipython-input-9-caa538e6cd26>\u001B[0m in \u001B[0;36m<module>\u001B[0;34m\u001B[0m\n\u001B[1;32m     50\u001B[0m \u001B[0mprint\u001B[0m\u001B[0;34m(\u001B[0m\u001B[0;34mf\"MEAN {(n_output_df['end'] - n_output_df['start']).mean()}\"\u001B[0m\u001B[0;34m)\u001B[0m\u001B[0;34m\u001B[0m\u001B[0;34m\u001B[0m\u001B[0m\n\u001B[1;32m     51\u001B[0m \u001B[0mprint\u001B[0m\u001B[0;34m(\u001B[0m\u001B[0;34mf\"Length {len(n_output_df['start'])}\"\u001B[0m\u001B[0;34m)\u001B[0m\u001B[0;34m\u001B[0m\u001B[0;34m\u001B[0m\u001B[0m\n\u001B[0;32m---> 52\u001B[0;31m \u001B[0mn_output_df\u001B[0m\u001B[0;34m.\u001B[0m\u001B[0mto_csv\u001B[0m\u001B[0;34m(\u001B[0m\u001B[0mos\u001B[0m\u001B[0;34m.\u001B[0m\u001B[0mpath\u001B[0m\u001B[0;34m.\u001B[0m\u001B[0mjoin\u001B[0m\u001B[0;34m(\u001B[0m\u001B[0moutput_dir\u001B[0m\u001B[0;34m,\u001B[0m \u001B[0;34m'negative_peak.bed'\u001B[0m\u001B[0;34m)\u001B[0m\u001B[0;34m,\u001B[0m \u001B[0mindex\u001B[0m\u001B[0;34m=\u001B[0m\u001B[0;32mFalse\u001B[0m\u001B[0;34m,\u001B[0m \u001B[0mheader\u001B[0m\u001B[0;34m=\u001B[0m\u001B[0;32mFalse\u001B[0m\u001B[0;34m,\u001B[0m \u001B[0msep\u001B[0m\u001B[0;34m=\u001B[0m\u001B[0;34m'\\t'\u001B[0m\u001B[0;34m)\u001B[0m\u001B[0;34m\u001B[0m\u001B[0;34m\u001B[0m\u001B[0m\n\u001B[0m",
      "\u001B[0;32m~/Uni/Bachelor-Thesis/venv/lib/python3.8/site-packages/pandas/core/generic.py\u001B[0m in \u001B[0;36mto_csv\u001B[0;34m(self, path_or_buf, sep, na_rep, float_format, columns, header, index, index_label, mode, encoding, compression, quoting, quotechar, line_terminator, chunksize, date_format, doublequote, escapechar, decimal)\u001B[0m\n\u001B[1;32m   3202\u001B[0m             \u001B[0mdecimal\u001B[0m\u001B[0;34m=\u001B[0m\u001B[0mdecimal\u001B[0m\u001B[0;34m,\u001B[0m\u001B[0;34m\u001B[0m\u001B[0;34m\u001B[0m\u001B[0m\n\u001B[1;32m   3203\u001B[0m         )\n\u001B[0;32m-> 3204\u001B[0;31m         \u001B[0mformatter\u001B[0m\u001B[0;34m.\u001B[0m\u001B[0msave\u001B[0m\u001B[0;34m(\u001B[0m\u001B[0;34m)\u001B[0m\u001B[0;34m\u001B[0m\u001B[0;34m\u001B[0m\u001B[0m\n\u001B[0m\u001B[1;32m   3205\u001B[0m \u001B[0;34m\u001B[0m\u001B[0m\n\u001B[1;32m   3206\u001B[0m         \u001B[0;32mif\u001B[0m \u001B[0mpath_or_buf\u001B[0m \u001B[0;32mis\u001B[0m \u001B[0;32mNone\u001B[0m\u001B[0;34m:\u001B[0m\u001B[0;34m\u001B[0m\u001B[0;34m\u001B[0m\u001B[0m\n",
      "\u001B[0;32m~/Uni/Bachelor-Thesis/venv/lib/python3.8/site-packages/pandas/io/formats/csvs.py\u001B[0m in \u001B[0;36msave\u001B[0;34m(self)\u001B[0m\n\u001B[1;32m    182\u001B[0m             \u001B[0mclose\u001B[0m \u001B[0;34m=\u001B[0m \u001B[0;32mFalse\u001B[0m\u001B[0;34m\u001B[0m\u001B[0;34m\u001B[0m\u001B[0m\n\u001B[1;32m    183\u001B[0m         \u001B[0;32melse\u001B[0m\u001B[0;34m:\u001B[0m\u001B[0;34m\u001B[0m\u001B[0;34m\u001B[0m\u001B[0m\n\u001B[0;32m--> 184\u001B[0;31m             f, handles = get_handle(\n\u001B[0m\u001B[1;32m    185\u001B[0m                 \u001B[0mself\u001B[0m\u001B[0;34m.\u001B[0m\u001B[0mpath_or_buf\u001B[0m\u001B[0;34m,\u001B[0m\u001B[0;34m\u001B[0m\u001B[0;34m\u001B[0m\u001B[0m\n\u001B[1;32m    186\u001B[0m                 \u001B[0mself\u001B[0m\u001B[0;34m.\u001B[0m\u001B[0mmode\u001B[0m\u001B[0;34m,\u001B[0m\u001B[0;34m\u001B[0m\u001B[0;34m\u001B[0m\u001B[0m\n",
      "\u001B[0;32m~/Uni/Bachelor-Thesis/venv/lib/python3.8/site-packages/pandas/io/common.py\u001B[0m in \u001B[0;36mget_handle\u001B[0;34m(path_or_buf, mode, encoding, compression, memory_map, is_text)\u001B[0m\n\u001B[1;32m    426\u001B[0m         \u001B[0;32mif\u001B[0m \u001B[0mencoding\u001B[0m\u001B[0;34m:\u001B[0m\u001B[0;34m\u001B[0m\u001B[0;34m\u001B[0m\u001B[0m\n\u001B[1;32m    427\u001B[0m             \u001B[0;31m# Encoding\u001B[0m\u001B[0;34m\u001B[0m\u001B[0;34m\u001B[0m\u001B[0;34m\u001B[0m\u001B[0m\n\u001B[0;32m--> 428\u001B[0;31m             \u001B[0mf\u001B[0m \u001B[0;34m=\u001B[0m \u001B[0mopen\u001B[0m\u001B[0;34m(\u001B[0m\u001B[0mpath_or_buf\u001B[0m\u001B[0;34m,\u001B[0m \u001B[0mmode\u001B[0m\u001B[0;34m,\u001B[0m \u001B[0mencoding\u001B[0m\u001B[0;34m=\u001B[0m\u001B[0mencoding\u001B[0m\u001B[0;34m,\u001B[0m \u001B[0mnewline\u001B[0m\u001B[0;34m=\u001B[0m\u001B[0;34m\"\"\u001B[0m\u001B[0;34m)\u001B[0m\u001B[0;34m\u001B[0m\u001B[0;34m\u001B[0m\u001B[0m\n\u001B[0m\u001B[1;32m    429\u001B[0m         \u001B[0;32melif\u001B[0m \u001B[0mis_text\u001B[0m\u001B[0;34m:\u001B[0m\u001B[0;34m\u001B[0m\u001B[0;34m\u001B[0m\u001B[0m\n\u001B[1;32m    430\u001B[0m             \u001B[0;31m# No explicit encoding\u001B[0m\u001B[0;34m\u001B[0m\u001B[0;34m\u001B[0m\u001B[0;34m\u001B[0m\u001B[0m\n",
      "\u001B[0;31mFileNotFoundError\u001B[0m: [Errno 2] No such file or directory: '/home/kevin/tmp/group1_hic/bed_files/reference/negative_peak.bed'"
     ]
    }
   ],
   "source": [
    "# Calculate mean of peak width\n",
    "p_peaks = sorted_full_df['end'] - sorted_full_df['start']\n",
    "peak_mean = p_peaks.mean()\n",
    "peak_count = sorted_full_df.shape[1]\n",
    "print(f'Positive peak mean: {peak_mean}')\n",
    "print(f'Positive peak min: {p_peaks.min()}')\n",
    "print(f'Positive peak max: {p_peaks.max()}')\n",
    "\n",
    "# Calculate negative space\n",
    "n_peaks = pd.DataFrame({'chr': sorted_full_df['chr'], 'start': sorted_full_df['end'].shift(1), 'end': sorted_full_df['start']}).dropna()\n",
    "n_output_df = pd.DataFrame(columns=['chr','start','end','name','score','strand'])\n",
    "\n",
    "np.random.seed(1)\n",
    "random.seed(1)\n",
    "\n",
    "peak_length_random = np.random.normal(loc = peak_mean, scale = 500, size = int(len(p_peaks)*1000)).astype(int)\n",
    "peak_length_random = peak_length_random[peak_length_random > 10]\n",
    "print(f'RANDOM {peak_length_random}')\n",
    "print(f'RANDOM min {peak_length_random.min()}')\n",
    "print(f'RANDOM max {peak_length_random.max()}')\n",
    "counter = 0\n",
    "for index, row in tqdm.tqdm(n_peaks.iterrows(), total=n_peaks.shape[0]):\n",
    "    gap_length = row['end'] - row['start']\n",
    "    peak_length = 0\n",
    "\n",
    "    # Get peak length smaller than gap\n",
    "    for _ in range(1000):\n",
    "        peak_length = peak_length_random[counter]\n",
    "        counter += 1\n",
    "        if peak_length <= gap_length:\n",
    "            break\n",
    "\n",
    "    # Get start offset\n",
    "    offset = 0\n",
    "    try:\n",
    "        offset = random.randint(0, int(gap_length - peak_length))\n",
    "    except ValueError:\n",
    "        continue\n",
    "\n",
    "    # Add row to df\n",
    "    row_start = row['start'] + offset\n",
    "\n",
    "    n_output_df.loc[index] = [row['chr'], row_start, row_start + peak_length, 'n_peak', 1, '.']\n",
    "\n",
    "# No digits\n",
    "n_output_df[[\"start\", \"end\"]] = n_output_df[[\"start\", \"end\"]].astype(int)\n",
    "# Sort\n",
    "n_output_df = n_output_df.sort_values(['chr', 'start'])\n",
    "\n",
    "print(f\"MEAN {(n_output_df['end'] - n_output_df['start']).mean()}\")\n",
    "print(f\"Length {len(n_output_df['start'])}\")\n",
    "n_output_df.to_csv(os.path.join(output_dir, 'negative_peak.bed'), index=False, header=False, sep='\\t')"
   ],
   "metadata": {
    "collapsed": false,
    "pycharm": {
     "name": "#%%\n"
    }
   }
  }
 ],
 "metadata": {
  "kernelspec": {
   "display_name": "Python 3",
   "language": "python",
   "name": "python3"
  },
  "language_info": {
   "codemirror_mode": {
    "name": "ipython",
    "version": 2
   },
   "file_extension": ".py",
   "mimetype": "text/x-python",
   "name": "python",
   "nbconvert_exporter": "python",
   "pygments_lexer": "ipython2",
   "version": "2.7.6"
  }
 },
 "nbformat": 4,
 "nbformat_minor": 0
}