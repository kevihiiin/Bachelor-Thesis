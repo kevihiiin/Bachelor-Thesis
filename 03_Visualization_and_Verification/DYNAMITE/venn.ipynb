{
 "cells": [
  {
   "cell_type": "code",
   "execution_count": 1,
   "metadata": {
    "collapsed": true
   },
   "outputs": [
    {
     "ename": "ImportError",
     "evalue": "cannot import name 'venn4' from 'matplotlib_venn' (/home/kevin/Uni/Bachelor-Thesis/venv/lib/python3.8/site-packages/matplotlib_venn/__init__.py)",
     "output_type": "error",
     "traceback": [
      "\u001B[0;31m---------------------------------------------------------------------------\u001B[0m",
      "\u001B[0;31mImportError\u001B[0m                               Traceback (most recent call last)",
      "\u001B[0;32m<ipython-input-1-6993f1b1f9d2>\u001B[0m in \u001B[0;36m<module>\u001B[0;34m\u001B[0m\n\u001B[0;32m----> 1\u001B[0;31m \u001B[0;32mfrom\u001B[0m \u001B[0mmatplotlib_venn\u001B[0m \u001B[0;32mimport\u001B[0m \u001B[0mvenn4\u001B[0m\u001B[0;34m,\u001B[0m \u001B[0mvenn2_circles\u001B[0m\u001B[0;34m\u001B[0m\u001B[0;34m\u001B[0m\u001B[0m\n\u001B[0m\u001B[1;32m      2\u001B[0m \u001B[0;32mfrom\u001B[0m \u001B[0mmatplotlib_venn\u001B[0m \u001B[0;32mimport\u001B[0m \u001B[0mvenn3\u001B[0m\u001B[0;34m,\u001B[0m \u001B[0mvenn3_circles\u001B[0m\u001B[0;34m\u001B[0m\u001B[0;34m\u001B[0m\u001B[0m\n\u001B[1;32m      3\u001B[0m \u001B[0;32mfrom\u001B[0m \u001B[0mmatplotlib\u001B[0m \u001B[0;32mimport\u001B[0m \u001B[0mpyplot\u001B[0m \u001B[0;32mas\u001B[0m \u001B[0mplt\u001B[0m\u001B[0;34m\u001B[0m\u001B[0;34m\u001B[0m\u001B[0m\n\u001B[1;32m      4\u001B[0m \u001B[0;34m\u001B[0m\u001B[0m\n\u001B[1;32m      5\u001B[0m \u001B[0mlst1\u001B[0m \u001B[0;34m=\u001B[0m \u001B[0;34m[\u001B[0m\u001B[0;34m'ENSMUSG00000051747'\u001B[0m\u001B[0;34m,\u001B[0m \u001B[0;34m'ENSMUSG00000000381'\u001B[0m\u001B[0;34m,\u001B[0m \u001B[0;34m'ENSMUSG00000022491'\u001B[0m\u001B[0;34m,\u001B[0m \u001B[0;34m'ENSMUSG00000030730'\u001B[0m\u001B[0;34m,\u001B[0m \u001B[0;34m'ENSMUSG00000030592'\u001B[0m\u001B[0;34m,\u001B[0m \u001B[0;34m]\u001B[0m\u001B[0;34m\u001B[0m\u001B[0;34m\u001B[0m\u001B[0m\n",
      "\u001B[0;31mImportError\u001B[0m: cannot import name 'venn4' from 'matplotlib_venn' (/home/kevin/Uni/Bachelor-Thesis/venv/lib/python3.8/site-packages/matplotlib_venn/__init__.py)"
     ]
    }
   ],
   "source": [
    "from matplotlib_venn import venn4, venn2_circles\n",
    "from matplotlib_venn import venn3, venn3_circles\n",
    "from matplotlib import pyplot as plt\n",
    "\n",
    "lst1 = ['ENSMUSG00000051747', 'ENSMUSG00000000381', 'ENSMUSG00000022491', 'ENSMUSG00000030730', 'ENSMUSG00000030592', ]\n",
    "lst2 = ['ENSMUSG00000000381', 'ENSMUSG00000092909', 'ENSMUSG00000021795', 'ENSMUSG00000026818', 'ENSMUSG00000024903', ]\n",
    "lst3 = ['ENSMUSG00000033684', 'ENSMUSG00000000381', 'ENSMUSG00000061388', 'ENSMUSG00000030302', 'ENSMUSG00000076434', ]\n",
    "lst4 = ['ENSMUSG00000033684', 'ENSMUSG00000000381', 'ENSMUSG00000021187', 'ENSMUSG00000021553', 'ENSMUSG00000074715', ]\n",
    "\n",
    "venn4([set(lst1), set(lst2)],\n",
    "      set_labels = ('L1 vs p6', 'L1 vs p13', 'L10 vs p6', 'L10 vs p13'))\n",
    "plt.title('Top 5 differentially expressed genes\\n')\n",
    "plt.show()"
   ]
  }
 ],
 "metadata": {
  "kernelspec": {
   "display_name": "Python 3",
   "language": "python",
   "name": "python3"
  },
  "language_info": {
   "codemirror_mode": {
    "name": "ipython",
    "version": 2
   },
   "file_extension": ".py",
   "mimetype": "text/x-python",
   "name": "python",
   "nbconvert_exporter": "python",
   "pygments_lexer": "ipython2",
   "version": "2.7.6"
  }
 },
 "nbformat": 4,
 "nbformat_minor": 0
}